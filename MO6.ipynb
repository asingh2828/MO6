{
 "cells": [
  {
   "cell_type": "code",
   "execution_count": 4,
   "id": "074730d7-6cd7-47b0-ba0d-fe0ea30a5ef9",
   "metadata": {},
   "outputs": [
    {
     "name": "stdout",
     "output_type": "stream",
     "text": [
      "2024-05-06 00:00:00\n"
     ]
    }
   ],
   "source": [
    "# 13.1 Write the current date as a string to the text file today.txt.\n",
    "from datetime import datetime\n",
    "\n",
    "# Write the current date to today.txt\n",
    "with open('today.txt', 'w') as file:\n",
    "    current_date = datetime.today().strftime('%Y-%m-%d')  # Get current date\n",
    "    file.write(current_date)  # Write current date to file\n",
    "\n",
    "# 13.2 Read the text file today.txt into the string today_string.\n",
    "# Read the content of today.txt into today_string\n",
    "with open('today.txt', 'r') as file:\n",
    "    today_string = file.read()  # Read content of today.txt\n",
    "\n",
    "# 13.3 Parse the date from today_string.\n",
    "parsed_date = datetime.strptime(today_string, '%Y-%m-%d')  # Parse date from string\n",
    "print(parsed_date)  # Print parsed date\n"
   ]
  }
 ],
 "metadata": {
  "kernelspec": {
   "display_name": "Python 3 (ipykernel)",
   "language": "python",
   "name": "python3"
  },
  "language_info": {
   "codemirror_mode": {
    "name": "ipython",
    "version": 3
   },
   "file_extension": ".py",
   "mimetype": "text/x-python",
   "name": "python",
   "nbconvert_exporter": "python",
   "pygments_lexer": "ipython3",
   "version": "3.11.7"
  }
 },
 "nbformat": 4,
 "nbformat_minor": 5
}
